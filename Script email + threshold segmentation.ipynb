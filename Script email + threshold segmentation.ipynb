{
  "nbformat": 4,
  "nbformat_minor": 0,
  "metadata": {
    "colab": {
      "provenance": []
    },
    "kernelspec": {
      "name": "python3",
      "display_name": "Python 3"
    },
    "language_info": {
      "name": "python"
    }
  },
  "cells": [
    {
      "cell_type": "code",
      "source": [
        "pip install schedule"
      ],
      "metadata": {
        "colab": {
          "base_uri": "https://localhost:8080/"
        },
        "id": "mlb_MwSz9qQt",
        "outputId": "bf54c97d-d047-449a-f319-4fd10090aadc"
      },
      "execution_count": 8,
      "outputs": [
        {
          "output_type": "stream",
          "name": "stdout",
          "text": [
            "Collecting schedule\n",
            "  Downloading schedule-1.2.2-py3-none-any.whl.metadata (3.8 kB)\n",
            "Downloading schedule-1.2.2-py3-none-any.whl (12 kB)\n",
            "Installing collected packages: schedule\n",
            "Successfully installed schedule-1.2.2\n"
          ]
        }
      ]
    },
    {
      "cell_type": "code",
      "execution_count": 9,
      "metadata": {
        "id": "MC3M9In7H7u7"
      },
      "outputs": [],
      "source": [
        "import pandas as pd\n",
        "import numpy as np\n",
        "import pickle\n",
        "import smtplib\n",
        "from email.mime.multipart import MIMEMultipart\n",
        "from email.mime.text import MIMEText\n",
        "import logging\n",
        "import requests\n",
        "import schedule\n",
        "import time"
      ]
    },
    {
      "cell_type": "code",
      "source": [
        "logging.basicConfig(filename='churn_email.log', level=logging.INFO,\n",
        "                    format='%(asctime)s - %(levelname)s - %(message)s')"
      ],
      "metadata": {
        "id": "qlbsFYpyH-Pp"
      },
      "execution_count": 5,
      "outputs": []
    },
    {
      "cell_type": "code",
      "source": [
        "url = \"https://raw.githubusercontent.com/RicardoMuchacho/bank-churn-prediction-model/master/xgb_model.pkl\"\n",
        "\n",
        "response = requests.get(url)\n",
        "if response.status_code == 200:\n",
        "    with open(\"xgb_model.pkl\", \"wb\") as f:\n",
        "        f.write(response.content)\n",
        "    print(\"File downloaded successfully!\")\n",
        "else:\n",
        "    print(\"Failed to download file\")\n",
        "\n",
        "with open(\"xgb_model.pkl\", \"rb\") as f:\n",
        "    model = pickle.load(f)"
      ],
      "metadata": {
        "id": "wAG-9tCM2Beu",
        "colab": {
          "base_uri": "https://localhost:8080/"
        },
        "outputId": "96b593d7-a2e0-448d-9d40-ca2a8055f2b6"
      },
      "execution_count": 10,
      "outputs": [
        {
          "output_type": "stream",
          "name": "stdout",
          "text": [
            "File downloaded successfully!\n"
          ]
        }
      ]
    },
    {
      "cell_type": "code",
      "source": [
        "customer_data = pd.read_csv('current_customers.csv')"
      ],
      "metadata": {
        "id": "-DI7h97_ICDw",
        "colab": {
          "base_uri": "https://localhost:8080/",
          "height": 287
        },
        "outputId": "d293636d-c026-44cc-eaa3-a68c6676c2e2"
      },
      "execution_count": 11,
      "outputs": [
        {
          "output_type": "error",
          "ename": "FileNotFoundError",
          "evalue": "[Errno 2] No such file or directory: 'current_customers.csv'",
          "traceback": [
            "\u001b[0;31m---------------------------------------------------------------------------\u001b[0m",
            "\u001b[0;31mFileNotFoundError\u001b[0m                         Traceback (most recent call last)",
            "\u001b[0;32m<ipython-input-11-8ddc5e3d1191>\u001b[0m in \u001b[0;36m<cell line: 0>\u001b[0;34m()\u001b[0m\n\u001b[0;32m----> 1\u001b[0;31m \u001b[0mcustomer_data\u001b[0m \u001b[0;34m=\u001b[0m \u001b[0mpd\u001b[0m\u001b[0;34m.\u001b[0m\u001b[0mread_csv\u001b[0m\u001b[0;34m(\u001b[0m\u001b[0;34m'current_customers.csv'\u001b[0m\u001b[0;34m)\u001b[0m\u001b[0;34m\u001b[0m\u001b[0;34m\u001b[0m\u001b[0m\n\u001b[0m",
            "\u001b[0;32m/usr/local/lib/python3.11/dist-packages/pandas/io/parsers/readers.py\u001b[0m in \u001b[0;36mread_csv\u001b[0;34m(filepath_or_buffer, sep, delimiter, header, names, index_col, usecols, dtype, engine, converters, true_values, false_values, skipinitialspace, skiprows, skipfooter, nrows, na_values, keep_default_na, na_filter, verbose, skip_blank_lines, parse_dates, infer_datetime_format, keep_date_col, date_parser, date_format, dayfirst, cache_dates, iterator, chunksize, compression, thousands, decimal, lineterminator, quotechar, quoting, doublequote, escapechar, comment, encoding, encoding_errors, dialect, on_bad_lines, delim_whitespace, low_memory, memory_map, float_precision, storage_options, dtype_backend)\u001b[0m\n\u001b[1;32m   1024\u001b[0m     \u001b[0mkwds\u001b[0m\u001b[0;34m.\u001b[0m\u001b[0mupdate\u001b[0m\u001b[0;34m(\u001b[0m\u001b[0mkwds_defaults\u001b[0m\u001b[0;34m)\u001b[0m\u001b[0;34m\u001b[0m\u001b[0;34m\u001b[0m\u001b[0m\n\u001b[1;32m   1025\u001b[0m \u001b[0;34m\u001b[0m\u001b[0m\n\u001b[0;32m-> 1026\u001b[0;31m     \u001b[0;32mreturn\u001b[0m \u001b[0m_read\u001b[0m\u001b[0;34m(\u001b[0m\u001b[0mfilepath_or_buffer\u001b[0m\u001b[0;34m,\u001b[0m \u001b[0mkwds\u001b[0m\u001b[0;34m)\u001b[0m\u001b[0;34m\u001b[0m\u001b[0;34m\u001b[0m\u001b[0m\n\u001b[0m\u001b[1;32m   1027\u001b[0m \u001b[0;34m\u001b[0m\u001b[0m\n\u001b[1;32m   1028\u001b[0m \u001b[0;34m\u001b[0m\u001b[0m\n",
            "\u001b[0;32m/usr/local/lib/python3.11/dist-packages/pandas/io/parsers/readers.py\u001b[0m in \u001b[0;36m_read\u001b[0;34m(filepath_or_buffer, kwds)\u001b[0m\n\u001b[1;32m    618\u001b[0m \u001b[0;34m\u001b[0m\u001b[0m\n\u001b[1;32m    619\u001b[0m     \u001b[0;31m# Create the parser.\u001b[0m\u001b[0;34m\u001b[0m\u001b[0;34m\u001b[0m\u001b[0m\n\u001b[0;32m--> 620\u001b[0;31m     \u001b[0mparser\u001b[0m \u001b[0;34m=\u001b[0m \u001b[0mTextFileReader\u001b[0m\u001b[0;34m(\u001b[0m\u001b[0mfilepath_or_buffer\u001b[0m\u001b[0;34m,\u001b[0m \u001b[0;34m**\u001b[0m\u001b[0mkwds\u001b[0m\u001b[0;34m)\u001b[0m\u001b[0;34m\u001b[0m\u001b[0;34m\u001b[0m\u001b[0m\n\u001b[0m\u001b[1;32m    621\u001b[0m \u001b[0;34m\u001b[0m\u001b[0m\n\u001b[1;32m    622\u001b[0m     \u001b[0;32mif\u001b[0m \u001b[0mchunksize\u001b[0m \u001b[0;32mor\u001b[0m \u001b[0miterator\u001b[0m\u001b[0;34m:\u001b[0m\u001b[0;34m\u001b[0m\u001b[0;34m\u001b[0m\u001b[0m\n",
            "\u001b[0;32m/usr/local/lib/python3.11/dist-packages/pandas/io/parsers/readers.py\u001b[0m in \u001b[0;36m__init__\u001b[0;34m(self, f, engine, **kwds)\u001b[0m\n\u001b[1;32m   1618\u001b[0m \u001b[0;34m\u001b[0m\u001b[0m\n\u001b[1;32m   1619\u001b[0m         \u001b[0mself\u001b[0m\u001b[0;34m.\u001b[0m\u001b[0mhandles\u001b[0m\u001b[0;34m:\u001b[0m \u001b[0mIOHandles\u001b[0m \u001b[0;34m|\u001b[0m \u001b[0;32mNone\u001b[0m \u001b[0;34m=\u001b[0m \u001b[0;32mNone\u001b[0m\u001b[0;34m\u001b[0m\u001b[0;34m\u001b[0m\u001b[0m\n\u001b[0;32m-> 1620\u001b[0;31m         \u001b[0mself\u001b[0m\u001b[0;34m.\u001b[0m\u001b[0m_engine\u001b[0m \u001b[0;34m=\u001b[0m \u001b[0mself\u001b[0m\u001b[0;34m.\u001b[0m\u001b[0m_make_engine\u001b[0m\u001b[0;34m(\u001b[0m\u001b[0mf\u001b[0m\u001b[0;34m,\u001b[0m \u001b[0mself\u001b[0m\u001b[0;34m.\u001b[0m\u001b[0mengine\u001b[0m\u001b[0;34m)\u001b[0m\u001b[0;34m\u001b[0m\u001b[0;34m\u001b[0m\u001b[0m\n\u001b[0m\u001b[1;32m   1621\u001b[0m \u001b[0;34m\u001b[0m\u001b[0m\n\u001b[1;32m   1622\u001b[0m     \u001b[0;32mdef\u001b[0m \u001b[0mclose\u001b[0m\u001b[0;34m(\u001b[0m\u001b[0mself\u001b[0m\u001b[0;34m)\u001b[0m \u001b[0;34m->\u001b[0m \u001b[0;32mNone\u001b[0m\u001b[0;34m:\u001b[0m\u001b[0;34m\u001b[0m\u001b[0;34m\u001b[0m\u001b[0m\n",
            "\u001b[0;32m/usr/local/lib/python3.11/dist-packages/pandas/io/parsers/readers.py\u001b[0m in \u001b[0;36m_make_engine\u001b[0;34m(self, f, engine)\u001b[0m\n\u001b[1;32m   1878\u001b[0m                 \u001b[0;32mif\u001b[0m \u001b[0;34m\"b\"\u001b[0m \u001b[0;32mnot\u001b[0m \u001b[0;32min\u001b[0m \u001b[0mmode\u001b[0m\u001b[0;34m:\u001b[0m\u001b[0;34m\u001b[0m\u001b[0;34m\u001b[0m\u001b[0m\n\u001b[1;32m   1879\u001b[0m                     \u001b[0mmode\u001b[0m \u001b[0;34m+=\u001b[0m \u001b[0;34m\"b\"\u001b[0m\u001b[0;34m\u001b[0m\u001b[0;34m\u001b[0m\u001b[0m\n\u001b[0;32m-> 1880\u001b[0;31m             self.handles = get_handle(\n\u001b[0m\u001b[1;32m   1881\u001b[0m                 \u001b[0mf\u001b[0m\u001b[0;34m,\u001b[0m\u001b[0;34m\u001b[0m\u001b[0;34m\u001b[0m\u001b[0m\n\u001b[1;32m   1882\u001b[0m                 \u001b[0mmode\u001b[0m\u001b[0;34m,\u001b[0m\u001b[0;34m\u001b[0m\u001b[0;34m\u001b[0m\u001b[0m\n",
            "\u001b[0;32m/usr/local/lib/python3.11/dist-packages/pandas/io/common.py\u001b[0m in \u001b[0;36mget_handle\u001b[0;34m(path_or_buf, mode, encoding, compression, memory_map, is_text, errors, storage_options)\u001b[0m\n\u001b[1;32m    871\u001b[0m         \u001b[0;32mif\u001b[0m \u001b[0mioargs\u001b[0m\u001b[0;34m.\u001b[0m\u001b[0mencoding\u001b[0m \u001b[0;32mand\u001b[0m \u001b[0;34m\"b\"\u001b[0m \u001b[0;32mnot\u001b[0m \u001b[0;32min\u001b[0m \u001b[0mioargs\u001b[0m\u001b[0;34m.\u001b[0m\u001b[0mmode\u001b[0m\u001b[0;34m:\u001b[0m\u001b[0;34m\u001b[0m\u001b[0;34m\u001b[0m\u001b[0m\n\u001b[1;32m    872\u001b[0m             \u001b[0;31m# Encoding\u001b[0m\u001b[0;34m\u001b[0m\u001b[0;34m\u001b[0m\u001b[0m\n\u001b[0;32m--> 873\u001b[0;31m             handle = open(\n\u001b[0m\u001b[1;32m    874\u001b[0m                 \u001b[0mhandle\u001b[0m\u001b[0;34m,\u001b[0m\u001b[0;34m\u001b[0m\u001b[0;34m\u001b[0m\u001b[0m\n\u001b[1;32m    875\u001b[0m                 \u001b[0mioargs\u001b[0m\u001b[0;34m.\u001b[0m\u001b[0mmode\u001b[0m\u001b[0;34m,\u001b[0m\u001b[0;34m\u001b[0m\u001b[0;34m\u001b[0m\u001b[0m\n",
            "\u001b[0;31mFileNotFoundError\u001b[0m: [Errno 2] No such file or directory: 'current_customers.csv'"
          ]
        }
      ]
    },
    {
      "cell_type": "code",
      "source": [
        "customer_ids = customer_data['customer_id']\n",
        "emails = customer_data['email']\n",
        "\n",
        "features = customer_data.drop(columns=['customer_id', 'email'])\n",
        "\n",
        "churn_probabilities = model.predict_proba(features)[:, 1]"
      ],
      "metadata": {
        "id": "yiKrNZQrIHNk"
      },
      "execution_count": null,
      "outputs": []
    },
    {
      "cell_type": "code",
      "source": [
        "threshold1 = 0.5\n",
        "threshold2 = 0.65\n",
        "threshold3 = 0.8\n",
        "\n",
        "low_risk_indices = np.where(churn_probabilities > threshold1)[0]\n",
        "medium_risk_indices = np.where(churn_probabilities > threshold2)[0]\n",
        "high_risk_indices = np.where(churn_probabilities > threshold3)[0]\n",
        "\n",
        "low_risk_customers = customer_data.iloc[low_risk_indices]\n",
        "medium_risk_customers = customer_data.iloc[medium_risk_indices]\n",
        "high_risk_customers = customer_data.iloc[high_risk_indices]"
      ],
      "metadata": {
        "id": "prEdYIsyIJhu"
      },
      "execution_count": null,
      "outputs": []
    },
    {
      "cell_type": "code",
      "source": [
        "EMAIL_ADDRESS = 'your_email@banco.es'\n",
        "EMAIL_PASSWORD = 'contraseña'\n",
        "SMTP_SERVER = 'smtp.banco.es'\n",
        "SMTP_PORT = 587"
      ],
      "metadata": {
        "id": "i5NYi6EAIM26"
      },
      "execution_count": null,
      "outputs": []
    },
    {
      "cell_type": "code",
      "source": [
        "def send_email_low(to_address, customer_name):\n",
        "    try:\n",
        "        msg = MIMEMultipart()\n",
        "        msg['From'] = EMAIL_ADDRESS\n",
        "        msg['To'] = to_address\n",
        "        msg['Subject'] = 'Un correo para agradecerte por estar con nosotros'\n",
        "\n",
        "        body = f\"\"\"\n",
        "        Querido {customer_name},\n",
        "\n",
        "        Sabemos que has estado con nosotros durante algún tiempo y queremos recompensar tu fidelidad y mostrarte nuestro agradecimiento.\n",
        "        Ahora tienes disponibles algunas ofertas especiales para ti y tus seres queridos en préstamos familiares, de automóvil o vivienda.\n",
        "        ¡No te los pierdas!\n",
        "\n",
        "        Esperamos saber de ti pronto y poder hablar sobre nuestro futuro y éxitos en común.\n",
        "\n",
        "        No dudes en ponerte en contacto con nuestros servicios, ¡te guiaremos a través de todos tus beneficios!\n",
        "\n",
        "        Saludos cordiales,\n",
        "        Tu servicio de atención al cliente\n",
        "        \"\"\"\n",
        "        msg.attach(MIMEText(body, 'plain'))\n",
        "\n",
        "        with smtplib.SMTP(SMTP_SERVER, SMTP_PORT) as server:\n",
        "            server.starttls()\n",
        "            server.login(EMAIL_ADDRESS, EMAIL_PASSWORD)\n",
        "            server.send_message(msg)\n",
        "\n",
        "        logging.info(f\"Email mandado a {to_address}\")\n",
        "    except Exception as e:\n",
        "        logging.error(f\"Failó mandar el email a {to_address}: {e}\")"
      ],
      "metadata": {
        "id": "JqLd4XKtIO00"
      },
      "execution_count": null,
      "outputs": []
    },
    {
      "cell_type": "code",
      "source": [
        "for index, row in low_risk_customers.iterrows():\n",
        "    send_email_low(row['email'], row['customer_name'])"
      ],
      "metadata": {
        "id": "oYCWFd8CwlXP"
      },
      "execution_count": null,
      "outputs": []
    },
    {
      "cell_type": "code",
      "source": [
        "def send_email_medium(to_address, customer_name):\n",
        "    try:\n",
        "        msg = MIMEMultipart()\n",
        "        msg['From'] = EMAIL_ADDRESS\n",
        "        msg['To'] = to_address\n",
        "        msg['Subject'] = 'Un correo para agradecerte por estar con nosotros'\n",
        "\n",
        "        body = f\"\"\"\n",
        "        Querido {customer_name},\n",
        "\n",
        "        Sabemos que has estado con nosotros durante algún tiempo y queremos recompensar tu fidelidad y mostrarte nuestro agradecimiento.\n",
        "        Ahora tienes disponibles algunas ofertas especiales para ti y tus seres queridos en planes de pensiones y seguros de salud.\n",
        "        ¡No te los pierdas!\n",
        "\n",
        "        Esperamos saber de ti pronto y poder hablar sobre nuestro futuro y éxitos en común.\n",
        "\n",
        "        No dudes en ponerte en contacto con nuestros servicios, ¡te guiaremos a través de todos tus beneficios!\n",
        "\n",
        "        Saludos cordiales,\n",
        "        Tu servicio de atención al cliente\n",
        "        \"\"\"\n",
        "        msg.attach(MIMEText(body, 'plain'))\n",
        "\n",
        "        with smtplib.SMTP(SMTP_SERVER, SMTP_PORT) as server:\n",
        "            server.starttls()\n",
        "            server.login(EMAIL_ADDRESS, EMAIL_PASSWORD)\n",
        "            server.send_message(msg)\n",
        "\n",
        "        logging.info(f\"Email mandado a {to_address}\")\n",
        "    except Exception as e:\n",
        "        logging.error(f\"Failó mandar el email a {to_address}: {e}\")"
      ],
      "metadata": {
        "id": "3CKhhYXlwcdp"
      },
      "execution_count": null,
      "outputs": []
    },
    {
      "cell_type": "code",
      "source": [
        "for index, row in medium_risk_customers.iterrows():\n",
        "    send_email_medium(row['email'], row['customer_name'])"
      ],
      "metadata": {
        "id": "q1MT7XvnIS83"
      },
      "execution_count": null,
      "outputs": []
    },
    {
      "cell_type": "code",
      "source": [
        "def send_email_high(to_address, customer_name):\n",
        "    try:\n",
        "        msg = MIMEMultipart()\n",
        "        msg['From'] = EMAIL_ADDRESS\n",
        "        msg['To'] = to_address\n",
        "        msg['Subject'] = 'Un correo para agradecerte por estar con nosotros'\n",
        "\n",
        "        body = f\"\"\"\n",
        "        Querido {customer_name},\n",
        "\n",
        "        Sabemos que has estado con nosotros durante algún tiempo y queremos recompensar tu fidelidad y mostrarte nuestro agradecimiento.\n",
        "        Ahora tienes disponibles algunas ofertas especiales para ti y tus seres queridos en préstamos familiares, de automóvil o vivienda,\n",
        "        así como descuentos muy interesantes en planes de pensiones y seguros de salud. ¡No te los pierdas!\n",
        "\n",
        "        Esperamos saber de ti pronto y poder hablar sobre nuestro futuro y éxitos en común.\n",
        "\n",
        "        No dudes en ponerte en contacto con nuestros servicios, ¡te guiaremos a través de todos tus beneficios!\n",
        "\n",
        "        Saludos cordiales,\n",
        "        Tu servicio de atención al cliente\n",
        "        \"\"\"\n",
        "        msg.attach(MIMEText(body, 'plain'))\n",
        "\n",
        "        with smtplib.SMTP(SMTP_SERVER, SMTP_PORT) as server:\n",
        "            server.starttls()\n",
        "            server.login(EMAIL_ADDRESS, EMAIL_PASSWORD)\n",
        "            server.send_message(msg)\n",
        "\n",
        "        logging.info(f\"Email mandado a {to_address}\")\n",
        "    except Exception as e:\n",
        "        logging.error(f\"Failó mandar el email a {to_address}: {e}\")"
      ],
      "metadata": {
        "id": "nChZZ7YlIXAI"
      },
      "execution_count": null,
      "outputs": []
    },
    {
      "cell_type": "code",
      "source": [
        "for index, row in high_risk_customers.iterrows():\n",
        "    send_email_high(row['email'], row['customer_name'])"
      ],
      "metadata": {
        "id": "Z3XQtyaMwwC-"
      },
      "execution_count": null,
      "outputs": []
    },
    {
      "cell_type": "code",
      "source": [
        "def run_script():\n",
        "    print(\"Running churn email script\")\n",
        "\n",
        "schedule.every().monday.at(\"08:00\").do(run_script)\n",
        "\n",
        "while True:\n",
        "    schedule.run_pending()\n",
        "    time.sleep(60)"
      ],
      "metadata": {
        "colab": {
          "base_uri": "https://localhost:8080/",
          "height": 176
        },
        "id": "poFE69e281Nk",
        "outputId": "d0bd383c-8b38-409b-edf9-e26efd265352"
      },
      "execution_count": 13,
      "outputs": [
        {
          "output_type": "error",
          "ename": "KeyboardInterrupt",
          "evalue": "",
          "traceback": [
            "\u001b[0;31m---------------------------------------------------------------------------\u001b[0m",
            "\u001b[0;31mKeyboardInterrupt\u001b[0m                         Traceback (most recent call last)",
            "\u001b[0;32m<ipython-input-13-7eb5e4b862c0>\u001b[0m in \u001b[0;36m<cell line: 0>\u001b[0;34m()\u001b[0m\n\u001b[1;32m      6\u001b[0m \u001b[0;32mwhile\u001b[0m \u001b[0;32mTrue\u001b[0m\u001b[0;34m:\u001b[0m\u001b[0;34m\u001b[0m\u001b[0;34m\u001b[0m\u001b[0m\n\u001b[1;32m      7\u001b[0m     \u001b[0mschedule\u001b[0m\u001b[0;34m.\u001b[0m\u001b[0mrun_pending\u001b[0m\u001b[0;34m(\u001b[0m\u001b[0;34m)\u001b[0m\u001b[0;34m\u001b[0m\u001b[0;34m\u001b[0m\u001b[0m\n\u001b[0;32m----> 8\u001b[0;31m     \u001b[0mtime\u001b[0m\u001b[0;34m.\u001b[0m\u001b[0msleep\u001b[0m\u001b[0;34m(\u001b[0m\u001b[0;36m60\u001b[0m\u001b[0;34m)\u001b[0m\u001b[0;34m\u001b[0m\u001b[0;34m\u001b[0m\u001b[0m\n\u001b[0m",
            "\u001b[0;31mKeyboardInterrupt\u001b[0m: "
          ]
        }
      ]
    }
  ]
}