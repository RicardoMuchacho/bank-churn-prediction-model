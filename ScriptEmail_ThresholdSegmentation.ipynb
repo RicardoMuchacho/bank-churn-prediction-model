{
  "cells": [
    {
      "cell_type": "code",
      "execution_count": 3,
      "metadata": {
        "colab": {
          "base_uri": "https://localhost:8080/"
        },
        "id": "mlb_MwSz9qQt",
        "outputId": "bf54c97d-d047-449a-f319-4fd10090aadc"
      },
      "outputs": [],
      "source": [
        "# pip install schedule"
      ]
    },
    {
      "cell_type": "code",
      "execution_count": 21,
      "metadata": {
        "id": "MC3M9In7H7u7"
      },
      "outputs": [],
      "source": [
        "import pandas as pd\n",
        "import numpy as np\n",
        "import pickle\n",
        "import smtplib\n",
        "from email.mime.multipart import MIMEMultipart\n",
        "from email.mime.text import MIMEText\n",
        "import logging\n",
        "import requests\n",
        "# import schedule\n",
        "import time"
      ]
    },
    {
      "cell_type": "code",
      "execution_count": 22,
      "metadata": {
        "id": "qlbsFYpyH-Pp"
      },
      "outputs": [],
      "source": [
        "logging.basicConfig(filename='churn_email.log', level=logging.INFO,\n",
        "                    format='%(asctime)s - %(levelname)s - %(message)s')"
      ]
    },
    {
      "cell_type": "code",
      "execution_count": 12,
      "metadata": {
        "colab": {
          "base_uri": "https://localhost:8080/"
        },
        "id": "wAG-9tCM2Beu",
        "outputId": "96b593d7-a2e0-448d-9d40-ca2a8055f2b6"
      },
      "outputs": [
        {
          "name": "stdout",
          "output_type": "stream",
          "text": [
            "File downloaded successfully!\n"
          ]
        }
      ],
      "source": [
        "# url = \"https://raw.githubusercontent.com/RicardoMuchacho/bank-churn-prediction-model/master/xgb_model.pkl\"\n",
        "\n",
        "# response = requests.get(url)\n",
        "# if response.status_code == 200:\n",
        "#     with open(\"xgb_model.pkl\", \"wb\") as f:\n",
        "#         f.write(response.content)\n",
        "#     print(\"File downloaded successfully!\")\n",
        "# else:\n",
        "#     print(\"Failed to download file\")\n",
        "\n",
        "# with open(\"xgb_model.pkl\", \"rb\") as f:\n",
        "#     model = pickle.load(f)"
      ]
    },
    {
      "cell_type": "code",
      "execution_count": 23,
      "metadata": {
        "id": "yiKrNZQrIHNk"
      },
      "outputs": [
        {
          "name": "stdout",
          "output_type": "stream",
          "text": [
            "[0.01938054 0.14386404 0.8510245  ... 0.01831425 0.6883566  0.6883566 ]\n"
          ]
        }
      ],
      "source": [
        "with open(\"xgb_churn_model.pkl\", \"rb\") as model_file:\n",
        "    model = pickle.load(model_file)\n",
        "\n",
        "df = pd.read_csv(\"customers-clean.csv\")  # Replace with your actual dataset\n",
        "df = df.drop(columns=['Exited'])\n",
        "\n",
        "churn_probabilities = model.predict_proba(df)[:,1]\n",
        "\n",
        "print(churn_probabilities)"
      ]
    },
    {
      "cell_type": "code",
      "execution_count": null,
      "metadata": {
        "id": "prEdYIsyIJhu"
      },
      "outputs": [],
      "source": [
        "threshold1 = 0.5\n",
        "threshold2 = 0.65\n",
        "threshold3 = 0.8\n",
        "\n",
        "low_risk_indices = np.where(churn_probabilities > threshold1)[0]\n",
        "medium_risk_indices = np.where(churn_probabilities > threshold2)[0]\n",
        "high_risk_indices = np.where(churn_probabilities > threshold3)[0]\n",
        "\n",
        "low_risk_customers = customer_data.iloc[low_risk_indices]\n",
        "medium_risk_customers = customer_data.iloc[medium_risk_indices]\n",
        "high_risk_customers = customer_data.iloc[high_risk_indices]"
      ]
    },
    {
      "cell_type": "code",
      "execution_count": null,
      "metadata": {
        "id": "i5NYi6EAIM26"
      },
      "outputs": [],
      "source": [
        "EMAIL_ADDRESS = 'your_email@banco.es'\n",
        "EMAIL_PASSWORD = 'contraseña'\n",
        "SMTP_SERVER = 'smtp.banco.es'\n",
        "SMTP_PORT = 587"
      ]
    },
    {
      "cell_type": "code",
      "execution_count": null,
      "metadata": {
        "id": "JqLd4XKtIO00"
      },
      "outputs": [],
      "source": [
        "def send_email_low(to_address, customer_name):\n",
        "    try:\n",
        "        msg = MIMEMultipart()\n",
        "        msg['From'] = EMAIL_ADDRESS\n",
        "        msg['To'] = to_address\n",
        "        msg['Subject'] = 'Un correo para agradecerte por estar con nosotros'\n",
        "\n",
        "        body = f\"\"\"\n",
        "        Querido {customer_name},\n",
        "\n",
        "        Sabemos que has estado con nosotros durante algún tiempo y queremos recompensar tu fidelidad y mostrarte nuestro agradecimiento.\n",
        "        Ahora tienes disponibles algunas ofertas especiales para ti y tus seres queridos en préstamos familiares, de automóvil o vivienda.\n",
        "        ¡No te los pierdas!\n",
        "\n",
        "        Esperamos saber de ti pronto y poder hablar sobre nuestro futuro y éxitos en común.\n",
        "\n",
        "        No dudes en ponerte en contacto con nuestros servicios, ¡te guiaremos a través de todos tus beneficios!\n",
        "\n",
        "        Saludos cordiales,\n",
        "        Tu servicio de atención al cliente\n",
        "        \"\"\"\n",
        "        msg.attach(MIMEText(body, 'plain'))\n",
        "\n",
        "        with smtplib.SMTP(SMTP_SERVER, SMTP_PORT) as server:\n",
        "            server.starttls()\n",
        "            server.login(EMAIL_ADDRESS, EMAIL_PASSWORD)\n",
        "            server.send_message(msg)\n",
        "\n",
        "        logging.info(f\"Email mandado a {to_address}\")\n",
        "    except Exception as e:\n",
        "        logging.error(f\"Failó mandar el email a {to_address}: {e}\")"
      ]
    },
    {
      "cell_type": "code",
      "execution_count": null,
      "metadata": {
        "id": "oYCWFd8CwlXP"
      },
      "outputs": [],
      "source": [
        "for index, row in low_risk_customers.iterrows():\n",
        "    send_email_low(row['email'], row['customer_name'])"
      ]
    },
    {
      "cell_type": "code",
      "execution_count": null,
      "metadata": {
        "id": "3CKhhYXlwcdp"
      },
      "outputs": [],
      "source": [
        "def send_email_medium(to_address, customer_name):\n",
        "    try:\n",
        "        msg = MIMEMultipart()\n",
        "        msg['From'] = EMAIL_ADDRESS\n",
        "        msg['To'] = to_address\n",
        "        msg['Subject'] = 'Un correo para agradecerte por estar con nosotros'\n",
        "\n",
        "        body = f\"\"\"\n",
        "        Querido {customer_name},\n",
        "\n",
        "        Sabemos que has estado con nosotros durante algún tiempo y queremos recompensar tu fidelidad y mostrarte nuestro agradecimiento.\n",
        "        Ahora tienes disponibles algunas ofertas especiales para ti y tus seres queridos en planes de pensiones y seguros de salud.\n",
        "        ¡No te los pierdas!\n",
        "\n",
        "        Esperamos saber de ti pronto y poder hablar sobre nuestro futuro y éxitos en común.\n",
        "\n",
        "        No dudes en ponerte en contacto con nuestros servicios, ¡te guiaremos a través de todos tus beneficios!\n",
        "\n",
        "        Saludos cordiales,\n",
        "        Tu servicio de atención al cliente\n",
        "        \"\"\"\n",
        "        msg.attach(MIMEText(body, 'plain'))\n",
        "\n",
        "        with smtplib.SMTP(SMTP_SERVER, SMTP_PORT) as server:\n",
        "            server.starttls()\n",
        "            server.login(EMAIL_ADDRESS, EMAIL_PASSWORD)\n",
        "            server.send_message(msg)\n",
        "\n",
        "        logging.info(f\"Email mandado a {to_address}\")\n",
        "    except Exception as e:\n",
        "        logging.error(f\"Failó mandar el email a {to_address}: {e}\")"
      ]
    },
    {
      "cell_type": "code",
      "execution_count": null,
      "metadata": {
        "id": "q1MT7XvnIS83"
      },
      "outputs": [],
      "source": [
        "for index, row in medium_risk_customers.iterrows():\n",
        "    send_email_medium(row['email'], row['customer_name'])"
      ]
    },
    {
      "cell_type": "code",
      "execution_count": null,
      "metadata": {
        "id": "nChZZ7YlIXAI"
      },
      "outputs": [],
      "source": [
        "def send_email_high(to_address, customer_name):\n",
        "    try:\n",
        "        msg = MIMEMultipart()\n",
        "        msg['From'] = EMAIL_ADDRESS\n",
        "        msg['To'] = to_address\n",
        "        msg['Subject'] = 'Un correo para agradecerte por estar con nosotros'\n",
        "\n",
        "        body = f\"\"\"\n",
        "        Querido {customer_name},\n",
        "\n",
        "        Sabemos que has estado con nosotros durante algún tiempo y queremos recompensar tu fidelidad y mostrarte nuestro agradecimiento.\n",
        "        Ahora tienes disponibles algunas ofertas especiales para ti y tus seres queridos en préstamos familiares, de automóvil o vivienda,\n",
        "        así como descuentos muy interesantes en planes de pensiones y seguros de salud. ¡No te los pierdas!\n",
        "\n",
        "        Esperamos saber de ti pronto y poder hablar sobre nuestro futuro y éxitos en común.\n",
        "\n",
        "        No dudes en ponerte en contacto con nuestros servicios, ¡te guiaremos a través de todos tus beneficios!\n",
        "\n",
        "        Saludos cordiales,\n",
        "        Tu servicio de atención al cliente\n",
        "        \"\"\"\n",
        "        msg.attach(MIMEText(body, 'plain'))\n",
        "\n",
        "        with smtplib.SMTP(SMTP_SERVER, SMTP_PORT) as server:\n",
        "            server.starttls()\n",
        "            server.login(EMAIL_ADDRESS, EMAIL_PASSWORD)\n",
        "            server.send_message(msg)\n",
        "\n",
        "        logging.info(f\"Email mandado a {to_address}\")\n",
        "    except Exception as e:\n",
        "        logging.error(f\"Failó mandar el email a {to_address}: {e}\")"
      ]
    },
    {
      "cell_type": "code",
      "execution_count": null,
      "metadata": {
        "id": "Z3XQtyaMwwC-"
      },
      "outputs": [],
      "source": [
        "for index, row in high_risk_customers.iterrows():\n",
        "    send_email_high(row['email'], row['customer_name'])"
      ]
    },
    {
      "cell_type": "code",
      "execution_count": 13,
      "metadata": {
        "colab": {
          "base_uri": "https://localhost:8080/",
          "height": 176
        },
        "id": "poFE69e281Nk",
        "outputId": "d0bd383c-8b38-409b-edf9-e26efd265352"
      },
      "outputs": [
        {
          "ename": "KeyboardInterrupt",
          "evalue": "",
          "output_type": "error",
          "traceback": [
            "\u001b[0;31m---------------------------------------------------------------------------\u001b[0m",
            "\u001b[0;31mKeyboardInterrupt\u001b[0m                         Traceback (most recent call last)",
            "\u001b[0;32m<ipython-input-13-7eb5e4b862c0>\u001b[0m in \u001b[0;36m<cell line: 0>\u001b[0;34m()\u001b[0m\n\u001b[1;32m      6\u001b[0m \u001b[0;32mwhile\u001b[0m \u001b[0;32mTrue\u001b[0m\u001b[0;34m:\u001b[0m\u001b[0;34m\u001b[0m\u001b[0;34m\u001b[0m\u001b[0m\n\u001b[1;32m      7\u001b[0m     \u001b[0mschedule\u001b[0m\u001b[0;34m.\u001b[0m\u001b[0mrun_pending\u001b[0m\u001b[0;34m(\u001b[0m\u001b[0;34m)\u001b[0m\u001b[0;34m\u001b[0m\u001b[0;34m\u001b[0m\u001b[0m\n\u001b[0;32m----> 8\u001b[0;31m     \u001b[0mtime\u001b[0m\u001b[0;34m.\u001b[0m\u001b[0msleep\u001b[0m\u001b[0;34m(\u001b[0m\u001b[0;36m60\u001b[0m\u001b[0;34m)\u001b[0m\u001b[0;34m\u001b[0m\u001b[0;34m\u001b[0m\u001b[0m\n\u001b[0m",
            "\u001b[0;31mKeyboardInterrupt\u001b[0m: "
          ]
        }
      ],
      "source": [
        "# def run_script():\n",
        "#     print(\"Running churn email script\")\n",
        "\n",
        "# schedule.every().monday.at(\"08:00\").do(run_script)\n",
        "\n",
        "# while True:\n",
        "#     schedule.run_pending()\n",
        "#     time.sleep(60)"
      ]
    },
    {
      "cell_type": "code",
      "execution_count": null,
      "metadata": {},
      "outputs": [],
      "source": []
    }
  ],
  "metadata": {
    "colab": {
      "provenance": []
    },
    "kernelspec": {
      "display_name": "Python 3",
      "name": "python3"
    },
    "language_info": {
      "codemirror_mode": {
        "name": "ipython",
        "version": 3
      },
      "file_extension": ".py",
      "mimetype": "text/x-python",
      "name": "python",
      "nbconvert_exporter": "python",
      "pygments_lexer": "ipython3",
      "version": "3.10.11"
    }
  },
  "nbformat": 4,
  "nbformat_minor": 0
}
