{
 "cells": [
  {
   "cell_type": "code",
   "execution_count": 44,
   "id": "e8a24bb6",
   "metadata": {
    "_cell_guid": "b1076dfc-b9ad-4769-8c92-a6c4dae69d19",
    "_uuid": "8f2839f25d086af736a60e9eeb907d3b93b6e0e5",
    "execution": {
     "iopub.execute_input": "2024-12-10T00:38:01.249625Z",
     "iopub.status.busy": "2024-12-10T00:38:01.249233Z",
     "iopub.status.idle": "2024-12-10T00:38:05.240395Z",
     "shell.execute_reply": "2024-12-10T00:38:05.239412Z"
    },
    "papermill": {
     "duration": 3.999781,
     "end_time": "2024-12-10T00:38:05.242703",
     "exception": false,
     "start_time": "2024-12-10T00:38:01.242922",
     "status": "completed"
    },
    "tags": []
   },
   "outputs": [],
   "source": [
    "import pandas as pd\n",
    "import kagglehub\n",
    "import matplotlib.pyplot as plt\n",
    "from sklearn.model_selection import train_test_split\n",
    "from sklearn.tree import DecisionTreeClassifier\n",
    "from sklearn.linear_model import LogisticRegression\n",
    "from sklearn.neighbors import KNeighborsClassifier\n",
    "from sklearn.ensemble import RandomForestClassifier\n",
    "import xgboost as xgb\n",
    "from sklearn.metrics import roc_auc_score\n",
    "from sklearn.model_selection import GridSearchCV, KFold, cross_val_score\n",
    "from sklearn.preprocessing import StandardScaler\n",
    "import pickle\n",
    "\n",
    "#Download Dataset\n",
    "path = kagglehub.dataset_download(\"radheshyamkollipara/bank-customer-churn\")"
   ]
  },
  {
   "cell_type": "markdown",
   "id": "6d6ee912",
   "metadata": {},
   "source": [
    "## Data cleaning"
   ]
  },
  {
   "cell_type": "code",
   "execution_count": 60,
   "id": "8fa05419",
   "metadata": {},
   "outputs": [
    {
     "name": "stdout",
     "output_type": "stream",
     "text": [
      "<class 'pandas.core.frame.DataFrame'>\n",
      "RangeIndex: 10000 entries, 0 to 9999\n",
      "Data columns (total 18 columns):\n",
      " #   Column              Non-Null Count  Dtype  \n",
      "---  ------              --------------  -----  \n",
      " 0   RowNumber           10000 non-null  int64  \n",
      " 1   CustomerId          10000 non-null  int64  \n",
      " 2   Surname             10000 non-null  object \n",
      " 3   CreditScore         10000 non-null  int64  \n",
      " 4   Geography           10000 non-null  object \n",
      " 5   Gender              10000 non-null  object \n",
      " 6   Age                 10000 non-null  int64  \n",
      " 7   Tenure              10000 non-null  int64  \n",
      " 8   Balance             10000 non-null  float64\n",
      " 9   NumOfProducts       10000 non-null  int64  \n",
      " 10  HasCrCard           10000 non-null  int64  \n",
      " 11  IsActiveMember      10000 non-null  int64  \n",
      " 12  EstimatedSalary     10000 non-null  float64\n",
      " 13  Exited              10000 non-null  int64  \n",
      " 14  Complain            10000 non-null  int64  \n",
      " 15  Satisfaction Score  10000 non-null  int64  \n",
      " 16  Card Type           10000 non-null  object \n",
      " 17  Point Earned        10000 non-null  int64  \n",
      "dtypes: float64(2), int64(12), object(4)\n",
      "memory usage: 1.4+ MB\n"
     ]
    }
   ],
   "source": [
    "# Loading Data\n",
    "data = pd.read_csv(f\"{path}/Customer-Churn-Records.csv\")\n",
    "data.info()"
   ]
  },
  {
   "cell_type": "code",
   "execution_count": 61,
   "id": "7a4d6f33",
   "metadata": {
    "execution": {
     "iopub.execute_input": "2024-12-10T00:38:05.294764Z",
     "iopub.status.busy": "2024-12-10T00:38:05.294363Z",
     "iopub.status.idle": "2024-12-10T00:38:05.312650Z",
     "shell.execute_reply": "2024-12-10T00:38:05.311556Z"
    },
    "papermill": {
     "duration": 0.026144,
     "end_time": "2024-12-10T00:38:05.314932",
     "exception": false,
     "start_time": "2024-12-10T00:38:05.288788",
     "status": "completed"
    },
    "tags": []
   },
   "outputs": [
    {
     "data": {
      "text/html": [
       "<div>\n",
       "<style scoped>\n",
       "    .dataframe tbody tr th:only-of-type {\n",
       "        vertical-align: middle;\n",
       "    }\n",
       "\n",
       "    .dataframe tbody tr th {\n",
       "        vertical-align: top;\n",
       "    }\n",
       "\n",
       "    .dataframe thead th {\n",
       "        text-align: right;\n",
       "    }\n",
       "</style>\n",
       "<table border=\"1\" class=\"dataframe\">\n",
       "  <thead>\n",
       "    <tr style=\"text-align: right;\">\n",
       "      <th></th>\n",
       "      <th>CreditScore</th>\n",
       "      <th>Geography</th>\n",
       "      <th>Gender</th>\n",
       "      <th>Age</th>\n",
       "      <th>Tenure</th>\n",
       "      <th>Balance</th>\n",
       "      <th>NumOfProducts</th>\n",
       "      <th>HasCrCard</th>\n",
       "      <th>IsActiveMember</th>\n",
       "      <th>EstimatedSalary</th>\n",
       "      <th>Exited</th>\n",
       "      <th>Satisfaction Score</th>\n",
       "      <th>Card Type</th>\n",
       "      <th>Point Earned</th>\n",
       "    </tr>\n",
       "  </thead>\n",
       "  <tbody>\n",
       "    <tr>\n",
       "      <th>0</th>\n",
       "      <td>619</td>\n",
       "      <td>France</td>\n",
       "      <td>Female</td>\n",
       "      <td>42</td>\n",
       "      <td>2</td>\n",
       "      <td>0.00</td>\n",
       "      <td>1</td>\n",
       "      <td>1</td>\n",
       "      <td>1</td>\n",
       "      <td>101348.88</td>\n",
       "      <td>1</td>\n",
       "      <td>2</td>\n",
       "      <td>DIAMOND</td>\n",
       "      <td>464</td>\n",
       "    </tr>\n",
       "    <tr>\n",
       "      <th>1</th>\n",
       "      <td>608</td>\n",
       "      <td>Spain</td>\n",
       "      <td>Female</td>\n",
       "      <td>41</td>\n",
       "      <td>1</td>\n",
       "      <td>83807.86</td>\n",
       "      <td>1</td>\n",
       "      <td>0</td>\n",
       "      <td>1</td>\n",
       "      <td>112542.58</td>\n",
       "      <td>0</td>\n",
       "      <td>3</td>\n",
       "      <td>DIAMOND</td>\n",
       "      <td>456</td>\n",
       "    </tr>\n",
       "    <tr>\n",
       "      <th>2</th>\n",
       "      <td>502</td>\n",
       "      <td>France</td>\n",
       "      <td>Female</td>\n",
       "      <td>42</td>\n",
       "      <td>8</td>\n",
       "      <td>159660.80</td>\n",
       "      <td>3</td>\n",
       "      <td>1</td>\n",
       "      <td>0</td>\n",
       "      <td>113931.57</td>\n",
       "      <td>1</td>\n",
       "      <td>3</td>\n",
       "      <td>DIAMOND</td>\n",
       "      <td>377</td>\n",
       "    </tr>\n",
       "    <tr>\n",
       "      <th>3</th>\n",
       "      <td>699</td>\n",
       "      <td>France</td>\n",
       "      <td>Female</td>\n",
       "      <td>39</td>\n",
       "      <td>1</td>\n",
       "      <td>0.00</td>\n",
       "      <td>2</td>\n",
       "      <td>0</td>\n",
       "      <td>0</td>\n",
       "      <td>93826.63</td>\n",
       "      <td>0</td>\n",
       "      <td>5</td>\n",
       "      <td>GOLD</td>\n",
       "      <td>350</td>\n",
       "    </tr>\n",
       "    <tr>\n",
       "      <th>4</th>\n",
       "      <td>850</td>\n",
       "      <td>Spain</td>\n",
       "      <td>Female</td>\n",
       "      <td>43</td>\n",
       "      <td>2</td>\n",
       "      <td>125510.82</td>\n",
       "      <td>1</td>\n",
       "      <td>1</td>\n",
       "      <td>1</td>\n",
       "      <td>79084.10</td>\n",
       "      <td>0</td>\n",
       "      <td>5</td>\n",
       "      <td>GOLD</td>\n",
       "      <td>425</td>\n",
       "    </tr>\n",
       "  </tbody>\n",
       "</table>\n",
       "</div>"
      ],
      "text/plain": [
       "   CreditScore Geography  Gender  Age  Tenure    Balance  NumOfProducts  \\\n",
       "0          619    France  Female   42       2       0.00              1   \n",
       "1          608     Spain  Female   41       1   83807.86              1   \n",
       "2          502    France  Female   42       8  159660.80              3   \n",
       "3          699    France  Female   39       1       0.00              2   \n",
       "4          850     Spain  Female   43       2  125510.82              1   \n",
       "\n",
       "   HasCrCard  IsActiveMember  EstimatedSalary  Exited  Satisfaction Score  \\\n",
       "0          1               1        101348.88       1                   2   \n",
       "1          0               1        112542.58       0                   3   \n",
       "2          1               0        113931.57       1                   3   \n",
       "3          0               0         93826.63       0                   5   \n",
       "4          1               1         79084.10       0                   5   \n",
       "\n",
       "  Card Type  Point Earned  \n",
       "0   DIAMOND           464  \n",
       "1   DIAMOND           456  \n",
       "2   DIAMOND           377  \n",
       "3      GOLD           350  \n",
       "4      GOLD           425  "
      ]
     },
     "execution_count": 61,
     "metadata": {},
     "output_type": "execute_result"
    }
   ],
   "source": [
    "df = data.drop(columns=['RowNumber', 'CustomerId','Surname', 'Complain'])\n",
    "df.head()"
   ]
  },
  {
   "cell_type": "code",
   "execution_count": 62,
   "id": "82c7b38c",
   "metadata": {
    "execution": {
     "iopub.execute_input": "2024-12-10T00:38:05.327013Z",
     "iopub.status.busy": "2024-12-10T00:38:05.326632Z",
     "iopub.status.idle": "2024-12-10T00:38:05.342606Z",
     "shell.execute_reply": "2024-12-10T00:38:05.341299Z"
    },
    "papermill": {
     "duration": 0.023786,
     "end_time": "2024-12-10T00:38:05.344634",
     "exception": false,
     "start_time": "2024-12-10T00:38:05.320848",
     "status": "completed"
    },
    "tags": []
   },
   "outputs": [
    {
     "data": {
      "text/html": [
       "<div>\n",
       "<style scoped>\n",
       "    .dataframe tbody tr th:only-of-type {\n",
       "        vertical-align: middle;\n",
       "    }\n",
       "\n",
       "    .dataframe tbody tr th {\n",
       "        vertical-align: top;\n",
       "    }\n",
       "\n",
       "    .dataframe thead th {\n",
       "        text-align: right;\n",
       "    }\n",
       "</style>\n",
       "<table border=\"1\" class=\"dataframe\">\n",
       "  <thead>\n",
       "    <tr style=\"text-align: right;\">\n",
       "      <th></th>\n",
       "      <th>CreditScore</th>\n",
       "      <th>Geography</th>\n",
       "      <th>Gender</th>\n",
       "      <th>Age</th>\n",
       "      <th>Tenure</th>\n",
       "      <th>Balance</th>\n",
       "      <th>NumOfProducts</th>\n",
       "      <th>HasCrCard</th>\n",
       "      <th>IsActiveMember</th>\n",
       "      <th>EstimatedSalary</th>\n",
       "      <th>Exited</th>\n",
       "      <th>Satisfaction Score</th>\n",
       "      <th>Card Type</th>\n",
       "      <th>Point Earned</th>\n",
       "    </tr>\n",
       "  </thead>\n",
       "  <tbody>\n",
       "    <tr>\n",
       "      <th>0</th>\n",
       "      <td>619</td>\n",
       "      <td>France</td>\n",
       "      <td>1</td>\n",
       "      <td>42</td>\n",
       "      <td>2</td>\n",
       "      <td>0.00</td>\n",
       "      <td>1</td>\n",
       "      <td>1</td>\n",
       "      <td>1</td>\n",
       "      <td>101348.88</td>\n",
       "      <td>1</td>\n",
       "      <td>2</td>\n",
       "      <td>4</td>\n",
       "      <td>464</td>\n",
       "    </tr>\n",
       "    <tr>\n",
       "      <th>1</th>\n",
       "      <td>608</td>\n",
       "      <td>Spain</td>\n",
       "      <td>1</td>\n",
       "      <td>41</td>\n",
       "      <td>1</td>\n",
       "      <td>83807.86</td>\n",
       "      <td>1</td>\n",
       "      <td>0</td>\n",
       "      <td>1</td>\n",
       "      <td>112542.58</td>\n",
       "      <td>0</td>\n",
       "      <td>3</td>\n",
       "      <td>4</td>\n",
       "      <td>456</td>\n",
       "    </tr>\n",
       "    <tr>\n",
       "      <th>2</th>\n",
       "      <td>502</td>\n",
       "      <td>France</td>\n",
       "      <td>1</td>\n",
       "      <td>42</td>\n",
       "      <td>8</td>\n",
       "      <td>159660.80</td>\n",
       "      <td>3</td>\n",
       "      <td>1</td>\n",
       "      <td>0</td>\n",
       "      <td>113931.57</td>\n",
       "      <td>1</td>\n",
       "      <td>3</td>\n",
       "      <td>4</td>\n",
       "      <td>377</td>\n",
       "    </tr>\n",
       "    <tr>\n",
       "      <th>3</th>\n",
       "      <td>699</td>\n",
       "      <td>France</td>\n",
       "      <td>1</td>\n",
       "      <td>39</td>\n",
       "      <td>1</td>\n",
       "      <td>0.00</td>\n",
       "      <td>2</td>\n",
       "      <td>0</td>\n",
       "      <td>0</td>\n",
       "      <td>93826.63</td>\n",
       "      <td>0</td>\n",
       "      <td>5</td>\n",
       "      <td>2</td>\n",
       "      <td>350</td>\n",
       "    </tr>\n",
       "    <tr>\n",
       "      <th>4</th>\n",
       "      <td>850</td>\n",
       "      <td>Spain</td>\n",
       "      <td>1</td>\n",
       "      <td>43</td>\n",
       "      <td>2</td>\n",
       "      <td>125510.82</td>\n",
       "      <td>1</td>\n",
       "      <td>1</td>\n",
       "      <td>1</td>\n",
       "      <td>79084.10</td>\n",
       "      <td>0</td>\n",
       "      <td>5</td>\n",
       "      <td>2</td>\n",
       "      <td>425</td>\n",
       "    </tr>\n",
       "  </tbody>\n",
       "</table>\n",
       "</div>"
      ],
      "text/plain": [
       "   CreditScore Geography  Gender  Age  Tenure    Balance  NumOfProducts  \\\n",
       "0          619    France       1   42       2       0.00              1   \n",
       "1          608     Spain       1   41       1   83807.86              1   \n",
       "2          502    France       1   42       8  159660.80              3   \n",
       "3          699    France       1   39       1       0.00              2   \n",
       "4          850     Spain       1   43       2  125510.82              1   \n",
       "\n",
       "   HasCrCard  IsActiveMember  EstimatedSalary  Exited  Satisfaction Score  \\\n",
       "0          1               1        101348.88       1                   2   \n",
       "1          0               1        112542.58       0                   3   \n",
       "2          1               0        113931.57       1                   3   \n",
       "3          0               0         93826.63       0                   5   \n",
       "4          1               1         79084.10       0                   5   \n",
       "\n",
       "   Card Type  Point Earned  \n",
       "0          4           464  \n",
       "1          4           456  \n",
       "2          4           377  \n",
       "3          2           350  \n",
       "4          2           425  "
      ]
     },
     "execution_count": 62,
     "metadata": {},
     "output_type": "execute_result"
    }
   ],
   "source": [
    "card_types = {'DIAMOND': 4, 'PLATINUM': 3, 'GOLD': 2, 'SILVER': 1}\n",
    "gender_types = {'Female': 1, 'Male': 0}\n",
    "\n",
    "df['Card Type'] = df['Card Type'].map(card_types)\n",
    "df['Gender'] = df['Gender'].map(gender_types)\n",
    "\n",
    "df.head()"
   ]
  },
  {
   "cell_type": "code",
   "execution_count": 63,
   "id": "1198fa89",
   "metadata": {
    "execution": {
     "iopub.execute_input": "2024-12-10T00:38:05.427280Z",
     "iopub.status.busy": "2024-12-10T00:38:05.426338Z",
     "iopub.status.idle": "2024-12-10T00:38:05.446680Z",
     "shell.execute_reply": "2024-12-10T00:38:05.445532Z"
    },
    "papermill": {
     "duration": 0.028961,
     "end_time": "2024-12-10T00:38:05.448961",
     "exception": false,
     "start_time": "2024-12-10T00:38:05.420000",
     "status": "completed"
    },
    "tags": []
   },
   "outputs": [
    {
     "name": "stdout",
     "output_type": "stream",
     "text": [
      "<class 'pandas.core.frame.DataFrame'>\n",
      "RangeIndex: 10000 entries, 0 to 9999\n",
      "Data columns (total 16 columns):\n",
      " #   Column              Non-Null Count  Dtype  \n",
      "---  ------              --------------  -----  \n",
      " 0   CreditScore         10000 non-null  int64  \n",
      " 1   Gender              10000 non-null  int64  \n",
      " 2   Age                 10000 non-null  int64  \n",
      " 3   Tenure              10000 non-null  int64  \n",
      " 4   Balance             10000 non-null  float64\n",
      " 5   NumOfProducts       10000 non-null  int64  \n",
      " 6   HasCrCard           10000 non-null  int64  \n",
      " 7   IsActiveMember      10000 non-null  int64  \n",
      " 8   EstimatedSalary     10000 non-null  float64\n",
      " 9   Exited              10000 non-null  int64  \n",
      " 10  Satisfaction Score  10000 non-null  int64  \n",
      " 11  Card Type           10000 non-null  int64  \n",
      " 12  Point Earned        10000 non-null  int64  \n",
      " 13  Geography_France    10000 non-null  bool   \n",
      " 14  Geography_Germany   10000 non-null  bool   \n",
      " 15  Geography_Spain     10000 non-null  bool   \n",
      "dtypes: bool(3), float64(2), int64(11)\n",
      "memory usage: 1.0 MB\n"
     ]
    }
   ],
   "source": [
    "#Get dummies encoding\n",
    "dummies = pd.get_dummies(df['Geography'], prefix='Geography')\n",
    "\n",
    "df = pd.concat([df, dummies], axis=1)\n",
    "df = df.drop(columns=['Geography'])\n",
    "df.head()"
   ]
  },
  {
   "cell_type": "code",
   "execution_count": 49,
   "id": "3b09f0bb",
   "metadata": {},
   "outputs": [],
   "source": [
    "# Export cleaned data\n",
    "df.to_csv('customers-clean.csv', index=False)"
   ]
  },
  {
   "cell_type": "markdown",
   "id": "a3bbe27d",
   "metadata": {},
   "source": [
    "## Machine Learning - Model V3"
   ]
  },
  {
   "cell_type": "code",
   "execution_count": 50,
   "id": "07027cb3",
   "metadata": {
    "execution": {
     "iopub.execute_input": "2024-12-10T00:38:06.608384Z",
     "iopub.status.busy": "2024-12-10T00:38:06.607403Z",
     "iopub.status.idle": "2024-12-10T00:38:06.613750Z",
     "shell.execute_reply": "2024-12-10T00:38:06.612743Z"
    },
    "papermill": {
     "duration": 0.018263,
     "end_time": "2024-12-10T00:38:06.615786",
     "exception": false,
     "start_time": "2024-12-10T00:38:06.597523",
     "status": "completed"
    },
    "tags": []
   },
   "outputs": [],
   "source": [
    "training_data = df.drop(columns=['Exited'])\n",
    "testing_data = df['Exited']\n",
    "X_train, X_test, Y_train, Y_test = train_test_split(training_data, testing_data, test_size=0.20, random_state=42)\n",
    "\n",
    "scaler = StandardScaler()\n",
    "X_train = scaler.fit_transform(X_train)\n",
    "X_test = scaler.transform(X_test)\n",
    "\n",
    "cv = KFold(n_splits=5, shuffle=True, random_state=42)\n",
    "\n",
    "def crossValidate(model, param_grid):\n",
    "    grid_search = GridSearchCV(estimator=model, param_grid=param_grid, cv=cv, scoring='roc_auc')\n",
    "    grid_search.fit(X_train, Y_train)\n",
    "    \n",
    "    return grid_search.best_estimator_, grid_search.best_score_, grid_search.best_params_\n"
   ]
  },
  {
   "cell_type": "code",
   "execution_count": 51,
   "id": "6b1df7a3",
   "metadata": {},
   "outputs": [],
   "source": [
    "#hyperparameters\n",
    "param_grid_lr = {\n",
    "    'penalty': ['l1', 'l2'],\n",
    "    'C': [0.1, 0.5, 1, 10, 20],\n",
    "    'solver': ['liblinear']\n",
    "}\n",
    "param_grid_knn = {\n",
    "    'n_neighbors': list(range(5, 105, 5)),\n",
    "    'weights': ['uniform', 'distance'],\n",
    "    'metric': ['euclidean', 'manhattan']\n",
    "}\n",
    "param_grid_dt = {\n",
    "    'max_depth': [10, 20, 30, 40, 50],\n",
    "    'min_samples_split': [2, 5, 10, 20],\n",
    "    'min_samples_leaf': [1, 2, 5, 10],\n",
    "    'criterion': ['gini', 'entropy']\n",
    "}\n",
    "param_grid_xgb = {\n",
    "    'max_depth': [2, 4, 6, 8, 10],\n",
    "    'n_estimators': [50, 100, 200],\n",
    "    'learning_rate': [0.01, 0.1, 0.2, 0.3]\n",
    "}\n",
    "param_grid_rf = {\n",
    "    'n_estimators': [100, 200, 300, 400, 500],\n",
    "    'max_depth': [10, 20, 30, None],\n",
    "}"
   ]
  },
  {
   "cell_type": "code",
   "execution_count": 52,
   "id": "6f4a1ded",
   "metadata": {},
   "outputs": [
    {
     "name": "stdout",
     "output_type": "stream",
     "text": [
      "LogisticRegression AUC = 0.7631485077893092\n",
      "Best parameters found: {'C': 0.1, 'penalty': 'l1', 'solver': 'liblinear'}\n"
     ]
    }
   ],
   "source": [
    "lr_model = LogisticRegression(max_iter=10000)\n",
    "_, auc_lr, best_params_lr = crossValidate(lr_model, param_grid_lr)\n",
    "\n",
    "print(f\"LogisticRegression AUC = {auc_lr}\")\n",
    "print(f\"Best parameters found: {best_params_lr}\")"
   ]
  },
  {
   "cell_type": "code",
   "execution_count": 53,
   "id": "b8abf6e0",
   "metadata": {},
   "outputs": [
    {
     "name": "stdout",
     "output_type": "stream",
     "text": [
      "KNeighbors AUC = 0.8169772519528122\n",
      "Best parameters found: {'metric': 'manhattan', 'n_neighbors': 65, 'weights': 'distance'}\n"
     ]
    }
   ],
   "source": [
    "knn_model = KNeighborsClassifier()\n",
    "_, auc_knn, best_params_knn = crossValidate(knn_model, param_grid_knn)\n",
    "  \n",
    "print(f\"KNeighbors AUC = {auc_knn}\")\n",
    "print(f\"Best parameters found: {best_params_knn}\")"
   ]
  },
  {
   "cell_type": "code",
   "execution_count": 54,
   "id": "d5923b88",
   "metadata": {
    "execution": {
     "iopub.execute_input": "2024-12-10T00:38:07.179404Z",
     "iopub.status.busy": "2024-12-10T00:38:07.179020Z",
     "iopub.status.idle": "2024-12-10T00:38:07.197273Z",
     "shell.execute_reply": "2024-12-10T00:38:07.196208Z"
    },
    "papermill": {
     "duration": 0.031985,
     "end_time": "2024-12-10T00:38:07.200042",
     "exception": false,
     "start_time": "2024-12-10T00:38:07.168057",
     "status": "completed"
    },
    "tags": []
   },
   "outputs": [
    {
     "name": "stdout",
     "output_type": "stream",
     "text": [
      "DecisionTree AUC = 0.802844641023667\n",
      "Best parameters found: {'criterion': 'gini', 'max_depth': 10, 'min_samples_leaf': 2, 'min_samples_split': 20}\n"
     ]
    }
   ],
   "source": [
    "dt_model = DecisionTreeClassifier(random_state=15)\n",
    "_, auc_dt, best_params_dt = crossValidate(dt_model, param_grid_dt)\n",
    "  \n",
    "print(f\"DecisionTree AUC = {auc_dt}\")\n",
    "print(f\"Best parameters found: {best_params_dt}\")\n"
   ]
  },
  {
   "cell_type": "code",
   "execution_count": 55,
   "id": "2e65112d",
   "metadata": {},
   "outputs": [
    {
     "name": "stdout",
     "output_type": "stream",
     "text": [
      "xgboost AUC = 0.8625505971345252\n",
      "Best parameters found: {'learning_rate': 0.1, 'max_depth': 4, 'n_estimators': 100}\n"
     ]
    }
   ],
   "source": [
    "xgb_model = xgb.XGBClassifier()\n",
    "best_estimator_xgb, auc_xgb, best_params_xgb = crossValidate(xgb_model, param_grid_xgb)\n",
    "  \n",
    "print(f\"xgboost AUC = {auc_xgb}\")\n",
    "print(f\"Best parameters found: {best_params_xgb}\")\n",
    "\n",
    "# Save model\n",
    "with open(\"xgb_churn_model.pkl\", \"wb\") as model_file:\n",
    "    pickle.dump(best_estimator_xgb, model_file)"
   ]
  },
  {
   "cell_type": "code",
   "execution_count": 56,
   "id": "e30a1131",
   "metadata": {},
   "outputs": [
    {
     "name": "stdout",
     "output_type": "stream",
     "text": [
      "RandomForest AUC = 0.8571699558141171\n",
      "Best parameters found: {'max_depth': 10, 'n_estimators': 500}\n"
     ]
    }
   ],
   "source": [
    "rf_model = RandomForestClassifier(random_state=42)\n",
    "_, auc_rf, best_params_rf = crossValidate(rf_model, param_grid_rf)\n",
    "  \n",
    "print(f\"RandomForest AUC = {auc_rf}\")\n",
    "print(f\"Best parameters found: {best_params_rf}\")"
   ]
  },
  {
   "cell_type": "markdown",
   "id": "9e5319a7",
   "metadata": {},
   "source": [
    "## Results - AUC Evaluation"
   ]
  },
  {
   "cell_type": "code",
   "execution_count": 57,
   "id": "e1240eef",
   "metadata": {},
   "outputs": [
    {
     "name": "stdout",
     "output_type": "stream",
     "text": [
      "1. xgb = 0.8625505971345252\n",
      "2. rf = 0.8571699558141171\n",
      "3. knn = 0.8169772519528122\n",
      "4. tr = 0.802844641023667\n",
      "5. lreg = 0.7631485077893092\n"
     ]
    },
    {
     "data": {
      "image/png": "[encoded data removed]",
      "text/plain": [
       "<Figure size 800x600 with 1 Axes>"
      ]
     },
     "metadata": {},
     "output_type": "display_data"
    }
   ],
   "source": [
    "results = {\n",
    "    \"lreg\": auc_lr,\n",
    "    \"xgb\": auc_xgb,\n",
    "    \"knn\": auc_knn,\n",
    "    \"rf\": auc_rf,\n",
    "    \"tr\": auc_dt\n",
    "}\n",
    "\n",
    "sorted_results = sorted(results.items(), key=lambda x: x[1], reverse=True)\n",
    "\n",
    "for i, (model, auc) in enumerate(sorted_results, 1):\n",
    "    print(f\"{i}. {model} = {auc}\")\n",
    "\n",
    "results_percentage = {model: score * 100 for model, score in sorted_results}\n",
    "\n",
    "models = list(results_percentage.keys())\n",
    "scores = list(results_percentage.values())\n",
    "\n",
    "plt.figure(figsize=(8, 6))\n",
    "plt.barh(models, scores, color='skyblue')\n",
    "plt.xlabel('AUC Scores (%)')\n",
    "plt.ylabel('Models')\n",
    "plt.title('Comparison of Model AUC Scores')\n",
    "plt.xlim(0, 100)\n",
    "plt.gca().invert_yaxis()"
   ]
  },
  {
   "cell_type": "markdown",
   "id": "e1240eef",
   "metadata": {},
   "source": [
    "## Conclution"
   ]
  },
  {
   "cell_type": "markdown",
   "id": "316861b3",
   "metadata": {},
   "source": [
    "By finetuning the models results are up 20% in general, to achieve this results the following features where added:\n",
    "\n",
    "<b>Complains Column Removed</b> Without complains the models are less effectiv\n",
    "\n",
    "<b>5-Fold Cross-Validation</b> for a more robust \n",
    "\n",
    "<b>Grid Search</b> to cross validate hyperparameters and get the best performing parameters combination\n",
    "\n",
    "<b>predict_proba</b> instead of predict for AUC-ROC calculation (internally used by gridsearch), using predict() loses information about the model's confidence, as it converts probabilities to binary decisions"
   ]
  },
  {
   "cell_type": "markdown",
   "id": "dfc26b40",
   "metadata": {},
   "source": [
    "\n",
    "## Contact\n",
    "Colaborators and special mention to the team:\n",
    "\n",
    "Ricardo Muchacho\n",
    "\n",
    "Antoine Daniel Maisonhaute\n",
    "\n",
    "Julio Eliu Camacho Orozco\n",
    "\n",
    "Sergio Gómez Cárdenas\n",
    "\n",
    "Información de Contacto -\n",
    "\n",
    "For any questions contact: ricardomuchacho.developer@gmail.com, sergio19959@gmail.com, antoinemaisonhaute59@gmail.com o jcamachoo@student.eae.es."
   ]
  }
 ],
 "metadata": {
  "kaggle": {
   "accelerator": "none",
   "dataSources": [
    {
     "datasetId": 3197960,
     "sourceId": 5550559,
     "sourceType": "datasetVersion"
    }
   ],
   "dockerImageVersionId": 30804,
   "isGpuEnabled": false,
   "isInternetEnabled": false,
   "language": "python",
   "sourceType": "notebook"
  },
  "kernelspec": {
   "display_name": "Python 3",
   "language": "python",
   "name": "python3"
  },
  "language_info": {
   "codemirror_mode": {
    "name": "ipython",
    "version": 3
   },
   "file_extension": ".py",
   "mimetype": "text/x-python",
   "name": "python",
   "nbconvert_exporter": "python",
   "pygments_lexer": "ipython3",
   "version": "3.10.11"
  },
  "papermill": {
   "default_parameters": {},
   "duration": 9.111478,
   "end_time": "2024-12-10T00:38:07.830742",
   "environment_variables": {},
   "exception": null,
   "input_path": "__notebook__.ipynb",
   "output_path": "__notebook__.ipynb",
   "parameters": {},
   "start_time": "2024-12-10T00:37:58.719264",
   "version": "2.6.0"
  }
 },
 "nbformat": 4,
 "nbformat_minor": 5
}
